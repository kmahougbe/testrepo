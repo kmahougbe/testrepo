{
 "cells": [
  {
   "cell_type": "markdown",
   "metadata": {},
   "source": [
    "<center>\n",
    "    <img src=\"https://cf-courses-data.s3.us.cloud-object-storage.appdomain.cloud/IBMDeveloperSkillsNetwork-DS0105EN-SkillsNetwork/labs/Module2/images/SN_web_lightmode.png\" width=\"300\" alt=\"cognitiveclass.ai logo\"  />\n",
    "</center>\n"
   ]
  },
  {
   "cell_type": "markdown",
   "metadata": {},
   "source": [
    "#### Add your code below following the instructions given in the course\n"
   ]
  },
  {
   "cell_type": "markdown",
   "metadata": {},
   "source": [
    "# My Jupyter Notebook on IBM Watson Studio"
   ]
  },
  {
   "cell_type": "markdown",
   "metadata": {},
   "source": [
    "**KINGLO August Abdon**\n",
    "\n",
    "I desire to be a hydrogeologist specialized in findings new insights for the better management of groundwater resources."
   ]
  },
  {
   "cell_type": "markdown",
   "metadata": {},
   "source": [
    "*I am interested in data science because in the water field there is an increasing production of data (boreholes, weather recordings). So to treat those important data, there is a need of the development of advance data analysis technics.*"
   ]
  },
  {
   "cell_type": "markdown",
   "metadata": {},
   "source": [
    "### This code take two numbers and give back the sum"
   ]
  },
  {
   "cell_type": "code",
   "execution_count": 2,
   "metadata": {},
   "outputs": [
    {
     "name": "stdin",
     "output_type": "stream",
     "text": [
      "Enter the first number: 2\n",
      "Enter the second number: 3\n"
     ]
    },
    {
     "name": "stdout",
     "output_type": "stream",
     "text": [
      "5\n"
     ]
    }
   ],
   "source": [
    "# The first number x, and the second number y \n",
    "\n",
    "x=input(\"Enter the first number:\")\n",
    "y=input(\"Enter the second number:\")\n",
    "\n",
    "x=int(x)\n",
    "y=int(y)\n",
    "z=x+y\n",
    "\n",
    "print(z)\n"
   ]
  },
  {
   "cell_type": "markdown",
   "metadata": {},
   "source": [
    "\n",
    "### Bulleted list\n",
    "In order to rapidly grow in knowledge in my data science journey, i should\n",
    " - Make sure to have access to relevant information as those provide on the skills Network Labs of IBM\n",
    " - Try to practice as much as I can the tools provided in those relevant resources\n",
    "\n",
    "### Tables\n",
    " This a table that show an overview of the way I plan to attend my goal\n",
    " \n",
    "|Monday            |Tuesday      |Wednesday       |Thursday        |Friday                    |\n",
    "|------------------|-------------|----------------|----------------|--------------------------|\n",
    "|Python programming|R programming|IBM course on ML|Personal project|Development of a community|\n",
    " \n",
    "### Hyperlinks\n",
    " This is a link to an incredible course that can help us \n",
    " \n",
    " [https://www.coursera.org/learn/open-source-tools-for-data-science/home/week/1](Hidden_landing_URL)"
   ]
  },
  {
   "cell_type": "code",
   "execution_count": null,
   "metadata": {},
   "outputs": [],
   "source": []
  },
  {
   "cell_type": "code",
   "execution_count": null,
   "metadata": {},
   "outputs": [],
   "source": []
  },
  {
   "cell_type": "code",
   "execution_count": null,
   "metadata": {},
   "outputs": [],
   "source": []
  }
 ],
 "metadata": {
  "kernelspec": {
   "display_name": "Python",
   "language": "python",
   "name": "conda-env-python-py"
  },
  "language_info": {
   "codemirror_mode": {
    "name": "ipython",
    "version": 3
   },
   "file_extension": ".py",
   "mimetype": "text/x-python",
   "name": "python",
   "nbconvert_exporter": "python",
   "pygments_lexer": "ipython3",
   "version": "3.7.12"
  }
 },
 "nbformat": 4,
 "nbformat_minor": 4
}
